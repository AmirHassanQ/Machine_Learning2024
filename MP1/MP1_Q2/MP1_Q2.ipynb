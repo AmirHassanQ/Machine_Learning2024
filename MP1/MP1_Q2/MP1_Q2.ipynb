{
  "cells": [
    {
      "cell_type": "markdown",
      "source": [
        "importing libraries"
      ],
      "metadata": {
        "id": "9NYLHb2jWF_M"
      }
    },
    {
      "cell_type": "code",
      "execution_count": null,
      "metadata": {
        "id": "3SkuZqhSFagY"
      },
      "outputs": [],
      "source": [
        "import numpy as np\n",
        "import pandas as pd\n",
        "import matplotlib.pyplot as plt\n"
      ]
    },
    {
      "cell_type": "code",
      "execution_count": null,
      "metadata": {
        "colab": {
          "base_uri": "https://localhost:8080/"
        },
        "id": "-pfBULuHEB-t",
        "outputId": "4eba2dcf-d4f9-44ae-cc06-59be6cca1990"
      },
      "outputs": [
        {
          "output_type": "stream",
          "name": "stdout",
          "text": [
            "Downloading...\n",
            "From: https://drive.google.com/uc?id=1DciS0Z60vxapKFGwmv2C406kBd9c_iWM\n",
            "To: /content/R.csv\n",
            "\r  0% 0.00/5.09M [00:00<?, ?B/s]\r100% 5.09M/5.09M [00:00<00:00, 98.1MB/s]\n"
          ]
        }
      ],
      "source": [
        "#https://drive.google.com/file/d/1DciS0Z60vxapKFGwmv2C406kBd9c_iWM/view?usp=sharing\n",
        "\n",
        "!gdown 1DciS0Z60vxapKFGwmv2C406kBd9c_iWM"
      ]
    },
    {
      "cell_type": "code",
      "execution_count": null,
      "metadata": {
        "colab": {
          "base_uri": "https://localhost:8080/",
          "height": 424
        },
        "id": "_WPND6XEFlIL",
        "outputId": "8d2f91a1-439e-408c-87fb-edb875ae4fa0"
      },
      "outputs": [
        {
          "output_type": "execute_result",
          "data": {
            "text/plain": [
              "              n1        f1\n",
              "0       0.053197  0.088662\n",
              "1       0.099718  0.058621\n",
              "2      -0.004590 -0.056952\n",
              "3      -0.071764 -0.058621\n",
              "4      -0.046521 -0.049859\n",
              "...          ...       ...\n",
              "182597 -0.118578 -0.161136\n",
              "182598 -0.268505 -0.112568\n",
              "182599  0.324545  0.142456\n",
              "182600 -0.316424 -0.063675\n",
              "182601  0.267368       NaN\n",
              "\n",
              "[182602 rows x 2 columns]"
            ],
            "text/html": [
              "\n",
              "  <div id=\"df-fdca948a-547c-4a20-88a9-b96c93690a63\" class=\"colab-df-container\">\n",
              "    <div>\n",
              "<style scoped>\n",
              "    .dataframe tbody tr th:only-of-type {\n",
              "        vertical-align: middle;\n",
              "    }\n",
              "\n",
              "    .dataframe tbody tr th {\n",
              "        vertical-align: top;\n",
              "    }\n",
              "\n",
              "    .dataframe thead th {\n",
              "        text-align: right;\n",
              "    }\n",
              "</style>\n",
              "<table border=\"1\" class=\"dataframe\">\n",
              "  <thead>\n",
              "    <tr style=\"text-align: right;\">\n",
              "      <th></th>\n",
              "      <th>n1</th>\n",
              "      <th>f1</th>\n",
              "    </tr>\n",
              "  </thead>\n",
              "  <tbody>\n",
              "    <tr>\n",
              "      <th>0</th>\n",
              "      <td>0.053197</td>\n",
              "      <td>0.088662</td>\n",
              "    </tr>\n",
              "    <tr>\n",
              "      <th>1</th>\n",
              "      <td>0.099718</td>\n",
              "      <td>0.058621</td>\n",
              "    </tr>\n",
              "    <tr>\n",
              "      <th>2</th>\n",
              "      <td>-0.004590</td>\n",
              "      <td>-0.056952</td>\n",
              "    </tr>\n",
              "    <tr>\n",
              "      <th>3</th>\n",
              "      <td>-0.071764</td>\n",
              "      <td>-0.058621</td>\n",
              "    </tr>\n",
              "    <tr>\n",
              "      <th>4</th>\n",
              "      <td>-0.046521</td>\n",
              "      <td>-0.049859</td>\n",
              "    </tr>\n",
              "    <tr>\n",
              "      <th>...</th>\n",
              "      <td>...</td>\n",
              "      <td>...</td>\n",
              "    </tr>\n",
              "    <tr>\n",
              "      <th>182597</th>\n",
              "      <td>-0.118578</td>\n",
              "      <td>-0.161136</td>\n",
              "    </tr>\n",
              "    <tr>\n",
              "      <th>182598</th>\n",
              "      <td>-0.268505</td>\n",
              "      <td>-0.112568</td>\n",
              "    </tr>\n",
              "    <tr>\n",
              "      <th>182599</th>\n",
              "      <td>0.324545</td>\n",
              "      <td>0.142456</td>\n",
              "    </tr>\n",
              "    <tr>\n",
              "      <th>182600</th>\n",
              "      <td>-0.316424</td>\n",
              "      <td>-0.063675</td>\n",
              "    </tr>\n",
              "    <tr>\n",
              "      <th>182601</th>\n",
              "      <td>0.267368</td>\n",
              "      <td>NaN</td>\n",
              "    </tr>\n",
              "  </tbody>\n",
              "</table>\n",
              "<p>182602 rows × 2 columns</p>\n",
              "</div>\n",
              "    <div class=\"colab-df-buttons\">\n",
              "\n",
              "  <div class=\"colab-df-container\">\n",
              "    <button class=\"colab-df-convert\" onclick=\"convertToInteractive('df-fdca948a-547c-4a20-88a9-b96c93690a63')\"\n",
              "            title=\"Convert this dataframe to an interactive table.\"\n",
              "            style=\"display:none;\">\n",
              "\n",
              "  <svg xmlns=\"http://www.w3.org/2000/svg\" height=\"24px\" viewBox=\"0 -960 960 960\">\n",
              "    <path d=\"M120-120v-720h720v720H120Zm60-500h600v-160H180v160Zm220 220h160v-160H400v160Zm0 220h160v-160H400v160ZM180-400h160v-160H180v160Zm440 0h160v-160H620v160ZM180-180h160v-160H180v160Zm440 0h160v-160H620v160Z\"/>\n",
              "  </svg>\n",
              "    </button>\n",
              "\n",
              "  <style>\n",
              "    .colab-df-container {\n",
              "      display:flex;\n",
              "      gap: 12px;\n",
              "    }\n",
              "\n",
              "    .colab-df-convert {\n",
              "      background-color: #E8F0FE;\n",
              "      border: none;\n",
              "      border-radius: 50%;\n",
              "      cursor: pointer;\n",
              "      display: none;\n",
              "      fill: #1967D2;\n",
              "      height: 32px;\n",
              "      padding: 0 0 0 0;\n",
              "      width: 32px;\n",
              "    }\n",
              "\n",
              "    .colab-df-convert:hover {\n",
              "      background-color: #E2EBFA;\n",
              "      box-shadow: 0px 1px 2px rgba(60, 64, 67, 0.3), 0px 1px 3px 1px rgba(60, 64, 67, 0.15);\n",
              "      fill: #174EA6;\n",
              "    }\n",
              "\n",
              "    .colab-df-buttons div {\n",
              "      margin-bottom: 4px;\n",
              "    }\n",
              "\n",
              "    [theme=dark] .colab-df-convert {\n",
              "      background-color: #3B4455;\n",
              "      fill: #D2E3FC;\n",
              "    }\n",
              "\n",
              "    [theme=dark] .colab-df-convert:hover {\n",
              "      background-color: #434B5C;\n",
              "      box-shadow: 0px 1px 3px 1px rgba(0, 0, 0, 0.15);\n",
              "      filter: drop-shadow(0px 1px 2px rgba(0, 0, 0, 0.3));\n",
              "      fill: #FFFFFF;\n",
              "    }\n",
              "  </style>\n",
              "\n",
              "    <script>\n",
              "      const buttonEl =\n",
              "        document.querySelector('#df-fdca948a-547c-4a20-88a9-b96c93690a63 button.colab-df-convert');\n",
              "      buttonEl.style.display =\n",
              "        google.colab.kernel.accessAllowed ? 'block' : 'none';\n",
              "\n",
              "      async function convertToInteractive(key) {\n",
              "        const element = document.querySelector('#df-fdca948a-547c-4a20-88a9-b96c93690a63');\n",
              "        const dataTable =\n",
              "          await google.colab.kernel.invokeFunction('convertToInteractive',\n",
              "                                                    [key], {});\n",
              "        if (!dataTable) return;\n",
              "\n",
              "        const docLinkHtml = 'Like what you see? Visit the ' +\n",
              "          '<a target=\"_blank\" href=https://colab.research.google.com/notebooks/data_table.ipynb>data table notebook</a>'\n",
              "          + ' to learn more about interactive tables.';\n",
              "        element.innerHTML = '';\n",
              "        dataTable['output_type'] = 'display_data';\n",
              "        await google.colab.output.renderOutput(dataTable, element);\n",
              "        const docLink = document.createElement('div');\n",
              "        docLink.innerHTML = docLinkHtml;\n",
              "        element.appendChild(docLink);\n",
              "      }\n",
              "    </script>\n",
              "  </div>\n",
              "\n",
              "\n",
              "<div id=\"df-28c6034d-a192-4fb6-9fcf-5baf86e7d389\">\n",
              "  <button class=\"colab-df-quickchart\" onclick=\"quickchart('df-28c6034d-a192-4fb6-9fcf-5baf86e7d389')\"\n",
              "            title=\"Suggest charts\"\n",
              "            style=\"display:none;\">\n",
              "\n",
              "<svg xmlns=\"http://www.w3.org/2000/svg\" height=\"24px\"viewBox=\"0 0 24 24\"\n",
              "     width=\"24px\">\n",
              "    <g>\n",
              "        <path d=\"M19 3H5c-1.1 0-2 .9-2 2v14c0 1.1.9 2 2 2h14c1.1 0 2-.9 2-2V5c0-1.1-.9-2-2-2zM9 17H7v-7h2v7zm4 0h-2V7h2v10zm4 0h-2v-4h2v4z\"/>\n",
              "    </g>\n",
              "</svg>\n",
              "  </button>\n",
              "\n",
              "<style>\n",
              "  .colab-df-quickchart {\n",
              "      --bg-color: #E8F0FE;\n",
              "      --fill-color: #1967D2;\n",
              "      --hover-bg-color: #E2EBFA;\n",
              "      --hover-fill-color: #174EA6;\n",
              "      --disabled-fill-color: #AAA;\n",
              "      --disabled-bg-color: #DDD;\n",
              "  }\n",
              "\n",
              "  [theme=dark] .colab-df-quickchart {\n",
              "      --bg-color: #3B4455;\n",
              "      --fill-color: #D2E3FC;\n",
              "      --hover-bg-color: #434B5C;\n",
              "      --hover-fill-color: #FFFFFF;\n",
              "      --disabled-bg-color: #3B4455;\n",
              "      --disabled-fill-color: #666;\n",
              "  }\n",
              "\n",
              "  .colab-df-quickchart {\n",
              "    background-color: var(--bg-color);\n",
              "    border: none;\n",
              "    border-radius: 50%;\n",
              "    cursor: pointer;\n",
              "    display: none;\n",
              "    fill: var(--fill-color);\n",
              "    height: 32px;\n",
              "    padding: 0;\n",
              "    width: 32px;\n",
              "  }\n",
              "\n",
              "  .colab-df-quickchart:hover {\n",
              "    background-color: var(--hover-bg-color);\n",
              "    box-shadow: 0 1px 2px rgba(60, 64, 67, 0.3), 0 1px 3px 1px rgba(60, 64, 67, 0.15);\n",
              "    fill: var(--button-hover-fill-color);\n",
              "  }\n",
              "\n",
              "  .colab-df-quickchart-complete:disabled,\n",
              "  .colab-df-quickchart-complete:disabled:hover {\n",
              "    background-color: var(--disabled-bg-color);\n",
              "    fill: var(--disabled-fill-color);\n",
              "    box-shadow: none;\n",
              "  }\n",
              "\n",
              "  .colab-df-spinner {\n",
              "    border: 2px solid var(--fill-color);\n",
              "    border-color: transparent;\n",
              "    border-bottom-color: var(--fill-color);\n",
              "    animation:\n",
              "      spin 1s steps(1) infinite;\n",
              "  }\n",
              "\n",
              "  @keyframes spin {\n",
              "    0% {\n",
              "      border-color: transparent;\n",
              "      border-bottom-color: var(--fill-color);\n",
              "      border-left-color: var(--fill-color);\n",
              "    }\n",
              "    20% {\n",
              "      border-color: transparent;\n",
              "      border-left-color: var(--fill-color);\n",
              "      border-top-color: var(--fill-color);\n",
              "    }\n",
              "    30% {\n",
              "      border-color: transparent;\n",
              "      border-left-color: var(--fill-color);\n",
              "      border-top-color: var(--fill-color);\n",
              "      border-right-color: var(--fill-color);\n",
              "    }\n",
              "    40% {\n",
              "      border-color: transparent;\n",
              "      border-right-color: var(--fill-color);\n",
              "      border-top-color: var(--fill-color);\n",
              "    }\n",
              "    60% {\n",
              "      border-color: transparent;\n",
              "      border-right-color: var(--fill-color);\n",
              "    }\n",
              "    80% {\n",
              "      border-color: transparent;\n",
              "      border-right-color: var(--fill-color);\n",
              "      border-bottom-color: var(--fill-color);\n",
              "    }\n",
              "    90% {\n",
              "      border-color: transparent;\n",
              "      border-bottom-color: var(--fill-color);\n",
              "    }\n",
              "  }\n",
              "</style>\n",
              "\n",
              "  <script>\n",
              "    async function quickchart(key) {\n",
              "      const quickchartButtonEl =\n",
              "        document.querySelector('#' + key + ' button');\n",
              "      quickchartButtonEl.disabled = true;  // To prevent multiple clicks.\n",
              "      quickchartButtonEl.classList.add('colab-df-spinner');\n",
              "      try {\n",
              "        const charts = await google.colab.kernel.invokeFunction(\n",
              "            'suggestCharts', [key], {});\n",
              "      } catch (error) {\n",
              "        console.error('Error during call to suggestCharts:', error);\n",
              "      }\n",
              "      quickchartButtonEl.classList.remove('colab-df-spinner');\n",
              "      quickchartButtonEl.classList.add('colab-df-quickchart-complete');\n",
              "    }\n",
              "    (() => {\n",
              "      let quickchartButtonEl =\n",
              "        document.querySelector('#df-28c6034d-a192-4fb6-9fcf-5baf86e7d389 button');\n",
              "      quickchartButtonEl.style.display =\n",
              "        google.colab.kernel.accessAllowed ? 'block' : 'none';\n",
              "    })();\n",
              "  </script>\n",
              "</div>\n",
              "    </div>\n",
              "  </div>\n"
            ],
            "application/vnd.google.colaboratory.intrinsic+json": {
              "type": "dataframe",
              "variable_name": "df"
            }
          },
          "metadata": {},
          "execution_count": 3
        }
      ],
      "source": [
        "df = pd.read_csv('/content/R.csv')\n",
        "df"
      ]
    },
    {
      "cell_type": "code",
      "execution_count": null,
      "metadata": {
        "colab": {
          "base_uri": "https://localhost:8080/"
        },
        "id": "QjiMqew1F39b",
        "outputId": "1d4e5f53-2022-4070-f48e-ad29594a6015"
      },
      "outputs": [
        {
          "output_type": "execute_result",
          "data": {
            "text/plain": [
              "((182602, 1), (182602, 1))"
            ]
          },
          "metadata": {},
          "execution_count": 4
        }
      ],
      "source": [
        "X1_notpreproc= df[['n1']].values\n",
        "X2_notpreproc= df[['f1']].values\n",
        "X1_notpreproc.shape,X2_notpreproc.shape"
      ]
    },
    {
      "cell_type": "markdown",
      "source": [
        "#Q2_2"
      ],
      "metadata": {
        "id": "rWbVTmYULbbt"
      }
    },
    {
      "cell_type": "code",
      "execution_count": null,
      "metadata": {
        "colab": {
          "base_uri": "https://localhost:8080/"
        },
        "id": "vGuInRY4hd5_",
        "outputId": "0d9bfae7-c56a-48db-86d3-54a9a264be19"
      },
      "outputs": [
        {
          "output_type": "execute_result",
          "data": {
            "text/plain": [
              "(200, 201)"
            ]
          },
          "metadata": {},
          "execution_count": 5
        }
      ],
      "source": [
        "X1_preproc = X1_notpreproc[0:20000,0]\n",
        "\n",
        "X2_preproc = X2_notpreproc[0:20000,0]\n",
        "\n",
        "X1_notlabeled = X1_preproc.reshape(100,200)\n",
        "X2_notlabeled = X2_preproc.reshape(100,200)\n",
        "\n",
        "label1 = np.ones((100,1))\n",
        "label2 = np.zeros((100,1))\n",
        "\n",
        "X1_notlabeled.shape , X2_notlabeled.shape\n",
        "X1_labeled = np.column_stack((X1_notlabeled,label1))\n",
        "X2_labeled = np.column_stack((X2_notlabeled,label2))\n",
        "X_labeled = np.vstack((X1_labeled,X2_labeled))\n",
        "\n",
        "X_labeled.shape\n"
      ]
    },
    {
      "cell_type": "code",
      "execution_count": null,
      "metadata": {
        "id": "eGjNqO07YJFe"
      },
      "outputs": [],
      "source": [
        "# Mean\n",
        "xf1 = np.zeros((200,1))\n",
        "for i in range(200):\n",
        "  xf1[i,0] = np.mean(X_labeled[i,0:198])"
      ]
    },
    {
      "cell_type": "code",
      "execution_count": null,
      "metadata": {
        "id": "OICaRgO2fXrN"
      },
      "outputs": [],
      "source": [
        "# Abs Mean\n",
        "xf2 = np.zeros((200,1))\n",
        "for i in range(200):\n",
        "  xf2[i,0]=np.mean(np.abs(X_labeled[i,0:198]))"
      ]
    },
    {
      "cell_type": "code",
      "execution_count": null,
      "metadata": {
        "id": "GFNW0F3wg9mE"
      },
      "outputs": [],
      "source": [
        "#Peak\n",
        "xf3 = np.zeros((200,1))\n",
        "for i in range(200):\n",
        "  xf3[i,0] = np.max(X_labeled[i,0:198])\n"
      ]
    },
    {
      "cell_type": "code",
      "execution_count": null,
      "metadata": {
        "id": "1OJ5-dKrjMY-"
      },
      "outputs": [],
      "source": [
        "#Peak to Peak\n",
        "xf4 = np.zeros((200,1))\n",
        "for i in range(200):\n",
        "  xf4[i,0] = np.max(X_labeled[i,0:198]) - np.min(X_labeled[i,0:198])\n"
      ]
    },
    {
      "cell_type": "code",
      "execution_count": null,
      "metadata": {
        "id": "DfVXG0Akjdyz"
      },
      "outputs": [],
      "source": [
        "# smr\n",
        "xf5 = np.zeros((200,1))\n",
        "for i in range(200):\n",
        "  xf5[i,0] = np.mean(np.sqrt(np.abs(X_labeled[i,0:198])))**2"
      ]
    },
    {
      "cell_type": "code",
      "execution_count": null,
      "metadata": {
        "id": "s_xjAgIMsJcS"
      },
      "outputs": [],
      "source": [
        "# CLF\n",
        "xf6 = np.zeros((200,1))\n",
        "for i in range(200):\n",
        "  xf6[i,0] = (np.max(X_labeled[i,0:198])/(np.mean(np.sqrt(np.abs(X_labeled[i,0:198])))**2))"
      ]
    },
    {
      "cell_type": "code",
      "execution_count": null,
      "metadata": {
        "id": "UIIF52uDs1OA"
      },
      "outputs": [],
      "source": [
        "#IF1\n",
        "xf7 = np.zeros((200,1))\n",
        "for i in range(200):\n",
        "  xf7[i,0] = (np.max(X_labeled[i,0:198])/(np.mean(np.abs(X_labeled[i,0:198]))))\n"
      ]
    },
    {
      "cell_type": "code",
      "execution_count": null,
      "metadata": {
        "id": "IggDwuzquZYb"
      },
      "outputs": [],
      "source": [
        "#IF2\n",
        "xf8 = np.zeros((200,1))\n",
        "for i in range(200):\n",
        "  xf8[i,0] = np.max(X_labeled[i,0:198])/(np.mean(np.abs(X_labeled[i,0:198])))"
      ]
    },
    {
      "cell_type": "code",
      "execution_count": null,
      "metadata": {
        "id": "NDs_iJqCxHJK"
      },
      "outputs": [],
      "source": [
        "xf_notlabeled = np.hstack((xf1,xf2,xf3,xf4,xf5,xf6,xf7,xf8))\n",
        "label1 = np.ones((100,1))\n",
        "label2 = np.zeros((100,1))\n",
        "xf_labeled1 = np.column_stack((xf_notlabeled[0:100,0:8],label1))\n",
        "xf_labeled2 = np.column_stack((xf_notlabeled[100:200,0:8],label2))\n"
      ]
    },
    {
      "cell_type": "code",
      "execution_count": null,
      "metadata": {
        "id": "pDMM6kUj4VMK"
      },
      "outputs": [],
      "source": [
        "X_total = np.vstack((xf_labeled1,xf_labeled2))"
      ]
    },
    {
      "cell_type": "code",
      "execution_count": null,
      "metadata": {
        "id": "YN6m5SaG9k-D"
      },
      "outputs": [],
      "source": [
        "from sklearn.utils import shuffle\n",
        "X_shuffled = shuffle(X_total)\n",
        "X = X_shuffled[0:200,0:8]\n",
        "Y = X_shuffled[0:200,8]\n"
      ]
    },
    {
      "cell_type": "code",
      "execution_count": null,
      "metadata": {
        "colab": {
          "base_uri": "https://localhost:8080/"
        },
        "id": "DA1_pQl-_tQI",
        "outputId": "c02a3491-b4c5-4cad-f7de-e9325d12bb68"
      },
      "outputs": [
        {
          "output_type": "execute_result",
          "data": {
            "text/plain": [
              "((160, 8), (40, 8), (160,), (40,))"
            ]
          },
          "metadata": {},
          "execution_count": 36
        }
      ],
      "source": [
        "from sklearn.model_selection import train_test_split\n",
        "x_train,x_test,y_train,y_test = train_test_split(X,Y,test_size = 0.2)\n",
        "x_train.shape,x_test.shape,y_train.shape,y_test.shape"
      ]
    },
    {
      "cell_type": "code",
      "execution_count": null,
      "metadata": {
        "colab": {
          "base_uri": "https://localhost:8080/"
        },
        "id": "HfZbPZ3D5x_a",
        "outputId": "666804a5-efd7-458d-d12e-d46d1ac9cb0d"
      },
      "outputs": [
        {
          "output_type": "execute_result",
          "data": {
            "text/plain": [
              "(160, 8)"
            ]
          },
          "metadata": {},
          "execution_count": 18
        }
      ],
      "source": [
        "from sklearn.preprocessing import MinMaxScaler\n",
        "scaler = MinMaxScaler()\n",
        "scaler.fit(x_train)\n",
        "x_train_normalized = scaler.transform(x_train)\n",
        "x_train_normalized.shape"
      ]
    },
    {
      "cell_type": "markdown",
      "source": [
        "# Q2_3"
      ],
      "metadata": {
        "id": "0TSHZnL1yF-P"
      }
    },
    {
      "cell_type": "code",
      "execution_count": null,
      "metadata": {
        "id": "FFyafcidCCou"
      },
      "outputs": [],
      "source": [
        "def sigmoid(x):\n",
        "    return 1 / (1 + np.exp(-x))"
      ]
    },
    {
      "cell_type": "code",
      "execution_count": null,
      "metadata": {
        "id": "IxRfOFq0CGDM"
      },
      "outputs": [],
      "source": [
        "def logistic_regression(x, w):\n",
        "    y_hat = sigmoid(x @ w)\n",
        "    return y_hat"
      ]
    },
    {
      "cell_type": "code",
      "execution_count": null,
      "metadata": {
        "id": "bKiFRZf7CcCn"
      },
      "outputs": [],
      "source": [
        "def bce(y, y_hat):\n",
        "    loss = -(np.mean(y*np.log(y_hat) + (1-y)*np.log(1-y_hat)))\n",
        "    return loss"
      ]
    },
    {
      "cell_type": "code",
      "execution_count": null,
      "metadata": {
        "id": "anJmGx7FCiMB"
      },
      "outputs": [],
      "source": [
        "def gradient(x, y, y_hat):\n",
        "    grads = (x.T @ (y_hat - y)) / len(y)\n",
        "    return grads"
      ]
    },
    {
      "cell_type": "code",
      "execution_count": null,
      "metadata": {
        "id": "vJSwrZ19rpCc"
      },
      "outputs": [],
      "source": []
    },
    {
      "cell_type": "code",
      "execution_count": null,
      "metadata": {
        "id": "KqOJ8AdWCvLc"
      },
      "outputs": [],
      "source": [
        "def gradient_descent(w, eta, grads):\n",
        "    w -= eta*grads\n",
        "    return w"
      ]
    },
    {
      "cell_type": "code",
      "execution_count": null,
      "metadata": {
        "id": "mPT3l2RwCzxi"
      },
      "outputs": [],
      "source": [
        "def accuracy(y, y_hat):\n",
        "    acc = np.sum(y == np.round(y_hat)) / len(y)\n",
        "    return acc"
      ]
    },
    {
      "cell_type": "code",
      "execution_count": null,
      "metadata": {
        "colab": {
          "base_uri": "https://localhost:8080/"
        },
        "id": "1hc1sJUrEDCV",
        "outputId": "b17ed728-bb56-40be-9872-cf3cfef8fd01"
      },
      "outputs": [
        {
          "output_type": "stream",
          "name": "stdout",
          "text": [
            "(8, 1)\n"
          ]
        }
      ],
      "source": [
        "m = 7\n",
        "w = np.random.randn(m+1, 1)\n",
        "print(w.shape)\n",
        "\n",
        "eta = 0.01\n",
        "n_epochs = 20\n"
      ]
    },
    {
      "cell_type": "code",
      "execution_count": null,
      "metadata": {
        "colab": {
          "base_uri": "https://localhost:8080/"
        },
        "id": "hlMXHCh9rv9d",
        "outputId": "489448f4-226b-4c5d-abd2-d6a5f6440871"
      },
      "outputs": [
        {
          "output_type": "execute_result",
          "data": {
            "text/plain": [
              "(8, 160)"
            ]
          },
          "metadata": {},
          "execution_count": 26
        }
      ],
      "source": [
        "(x_train_normalized.T).shape"
      ]
    },
    {
      "cell_type": "code",
      "execution_count": null,
      "metadata": {
        "colab": {
          "base_uri": "https://localhost:8080/"
        },
        "id": "CqOoYEsNE0Vq",
        "outputId": "0ff4ec05-65ce-4f80-a04e-31e4dbbf9ae5"
      },
      "outputs": [
        {
          "output_type": "stream",
          "name": "stdout",
          "text": [
            "Epoch=0, \t E=0.7627,\t w=[-0.8190599   0.16023158  1.225159    2.10429822  0.23714296 -1.70282426\n",
            " -0.13500534 -0.25488736]\n",
            "Epoch=1, \t E=0.7625,\t w=[-0.81948368  0.15955138  1.22460151  2.10360869  0.23642557 -1.70315382\n",
            " -0.13532589 -0.25520791]\n",
            "Epoch=2, \t E=0.7623,\t w=[-0.81990545  0.15887287  1.2240458   2.10292102  0.23570989 -1.70348199\n",
            " -0.1356451  -0.25552712]\n",
            "Epoch=3, \t E=0.7621,\t w=[-0.82032522  0.15819605  1.22349186  2.10223523  0.23499592 -1.70380879\n",
            " -0.13596298 -0.255845  ]\n",
            "Epoch=4, \t E=0.7618,\t w=[-0.820743    0.1575209   1.2229397   2.10155129  0.23428366 -1.70413421\n",
            " -0.13627952 -0.25616155]\n",
            "Epoch=5, \t E=0.7616,\t w=[-0.82115879  0.15684742  1.22238931  2.10086921  0.2335731  -1.70445826\n",
            " -0.13659474 -0.25647677]\n",
            "Epoch=6, \t E=0.7614,\t w=[-0.82157259  0.15617562  1.22184067  2.10018898  0.23286423 -1.70478095\n",
            " -0.13690864 -0.25679067]\n",
            "Epoch=7, \t E=0.7612,\t w=[-0.82198442  0.15550548  1.2212938   2.0995106   0.23215706 -1.70510227\n",
            " -0.13722122 -0.25710325]\n",
            "Epoch=8, \t E=0.761,\t w=[-0.82239428  0.154837    1.22074868  2.09883406  0.23145157 -1.70542224\n",
            " -0.13753248 -0.25741451]\n",
            "Epoch=9, \t E=0.7608,\t w=[-0.82280217  0.15417018  1.22020531  2.09815936  0.23074777 -1.70574085\n",
            " -0.13784244 -0.25772446]\n",
            "Epoch=10, \t E=0.7605,\t w=[-0.8232081   0.15350501  1.21966368  2.09748649  0.23004565 -1.70605811\n",
            " -0.13815108 -0.2580331 ]\n",
            "Epoch=11, \t E=0.7603,\t w=[-0.82361207  0.15284149  1.21912379  2.09681544  0.2293452  -1.70637403\n",
            " -0.13845842 -0.25834044]\n",
            "Epoch=12, \t E=0.7601,\t w=[-0.82401409  0.15217961  1.21858564  2.09614622  0.22864643 -1.7066886\n",
            " -0.13876445 -0.25864648]\n",
            "Epoch=13, \t E=0.7599,\t w=[-0.82441417  0.15151938  1.21804921  2.09547882  0.22794932 -1.70700183\n",
            " -0.13906919 -0.25895122]\n",
            "Epoch=14, \t E=0.7597,\t w=[-0.82481231  0.15086078  1.21751451  2.09481323  0.22725388 -1.70731372\n",
            " -0.13937264 -0.25925466]\n",
            "Epoch=15, \t E=0.7595,\t w=[-0.82520851  0.15020381  1.21698154  2.09414946  0.22656009 -1.70762429\n",
            " -0.13967479 -0.25955682]\n",
            "Epoch=16, \t E=0.7593,\t w=[-0.82560279  0.14954847  1.21645028  2.09348748  0.22586796 -1.70793352\n",
            " -0.13997566 -0.25985769]\n",
            "Epoch=17, \t E=0.7591,\t w=[-0.82599514  0.14889476  1.21592073  2.0928273   0.22517748 -1.70824143\n",
            " -0.14027525 -0.26015727]\n",
            "Epoch=18, \t E=0.7589,\t w=[-0.82638557  0.14824266  1.21539289  2.09216892  0.22448864 -1.70854802\n",
            " -0.14057356 -0.26045558]\n",
            "Epoch=19, \t E=0.7587,\t w=[-0.82677409  0.14759218  1.21486675  2.09151233  0.22380145 -1.70885329\n",
            " -0.14087059 -0.26075261]\n"
          ]
        }
      ],
      "source": [
        "error_hist = []\n",
        "\n",
        "for epoch in range(n_epochs):\n",
        "    # predictions\n",
        "    y_hat = logistic_regression(x_train_normalized, w)\n",
        "    y_hf = y_hat.flatten()\n",
        "\n",
        "    # loss\n",
        "    e = bce(y_train, y_hf)\n",
        "    error_hist.append(e)\n",
        "\n",
        "\n",
        "    # gradients\n",
        "    grads = gradient(x_train_normalized, y_train, y_hf)\n",
        "\n",
        "\n",
        "    # gradient descent\n",
        "    w = gradient_descent(w, eta, grads.reshape(8,1))\n",
        "\n",
        "    if (epoch+1) % 1 == 0:\n",
        "        print(f'Epoch={epoch}, \\t E={e:.4},\\t w={w.T[0]}')"
      ]
    },
    {
      "cell_type": "code",
      "source": [
        "plt.plot(error_hist)\n",
        "plt.savefig('error_hist.png')"
      ],
      "metadata": {
        "colab": {
          "base_uri": "https://localhost:8080/",
          "height": 430
        },
        "id": "h-0f022tBpgx",
        "outputId": "f5e05166-b60e-4852-e779-d064997d9629"
      },
      "execution_count": null,
      "outputs": [
        {
          "output_type": "display_data",
          "data": {
            "text/plain": [
              "<Figure size 640x480 with 1 Axes>"
            ],
            "image/png": "[encoded data removed]"
          },
          "metadata": {}
        }
      ]
    },
    {
      "cell_type": "code",
      "source": [
        "x_test_normalized = scaler.transform(x_test)"
      ],
      "metadata": {
        "id": "oHd53APeMEwS"
      },
      "execution_count": null,
      "outputs": []
    },
    {
      "cell_type": "code",
      "source": [
        "y_hat = logistic_regression(x_test, w)\n",
        "\n",
        "accuracy(y_test, y_hat.flatten())"
      ],
      "metadata": {
        "colab": {
          "base_uri": "https://localhost:8080/"
        },
        "id": "0N-jlimDCl2e",
        "outputId": "b580b5a5-63a2-43c3-a5b8-ff839202082d"
      },
      "execution_count": null,
      "outputs": [
        {
          "output_type": "stream",
          "name": "stdout",
          "text": [
            "40\n",
            "(40,)\n",
            "(40, 1)\n"
          ]
        },
        {
          "output_type": "execute_result",
          "data": {
            "text/plain": [
              "0.575"
            ]
          },
          "metadata": {},
          "execution_count": 60
        }
      ]
    },
    {
      "cell_type": "code",
      "source": [
        "y_predl = np.zeros([len(y_hat),1])\n",
        "for i in range(len(y_hat)):\n",
        "  if y_hat[i]>= 0.5:\n",
        "    y_predl[i] = 1\n",
        "  else:\n",
        "    y_predl[i] = 0\n",
        "y_predl"
      ],
      "metadata": {
        "colab": {
          "base_uri": "https://localhost:8080/"
        },
        "id": "Af_lEuEWfHNm",
        "outputId": "5afc0428-9eac-45ba-e818-43909b89e6e6"
      },
      "execution_count": null,
      "outputs": [
        {
          "output_type": "execute_result",
          "data": {
            "text/plain": [
              "array([[0.],\n",
              "       [0.],\n",
              "       [0.],\n",
              "       [0.],\n",
              "       [0.],\n",
              "       [0.],\n",
              "       [0.],\n",
              "       [0.],\n",
              "       [0.],\n",
              "       [0.],\n",
              "       [0.],\n",
              "       [0.],\n",
              "       [0.],\n",
              "       [0.],\n",
              "       [0.],\n",
              "       [0.],\n",
              "       [0.],\n",
              "       [0.],\n",
              "       [0.],\n",
              "       [0.],\n",
              "       [0.],\n",
              "       [0.],\n",
              "       [0.],\n",
              "       [0.],\n",
              "       [0.],\n",
              "       [0.],\n",
              "       [0.],\n",
              "       [0.],\n",
              "       [0.],\n",
              "       [0.],\n",
              "       [0.],\n",
              "       [0.],\n",
              "       [0.],\n",
              "       [0.],\n",
              "       [0.],\n",
              "       [0.],\n",
              "       [0.],\n",
              "       [0.],\n",
              "       [0.],\n",
              "       [0.]])"
            ]
          },
          "metadata": {},
          "execution_count": 67
        }
      ]
    },
    {
      "cell_type": "code",
      "source": [
        "import numpy as np\n",
        "import seaborn as sns\n",
        "import matplotlib.pyplot as plt\n",
        "from sklearn.metrics import confusion_matrix\n",
        "\n",
        "\n",
        "# Create a confusion matrix\n",
        "confusion_mat = confusion_matrix(y_test, y_predl)\n",
        "\n",
        "# Create a heatmap for the confusion matrix\n",
        "plt.figure(figsize=(6, 4))\n",
        "sns.heatmap(confusion_mat, annot=True, fmt='d', cmap='Blues')\n",
        "plt.xlabel('Predicted Values')\n",
        "plt.ylabel('True Values')\n",
        "plt.title('Confusion Matrix - Correct vs. Incorrect Predictions')\n",
        "plt.show()\n",
        "plt.savefig('heatmap.png')"
      ],
      "metadata": {
        "colab": {
          "base_uri": "https://localhost:8080/",
          "height": 427
        },
        "id": "qJLlj1zie_H1",
        "outputId": "f4757282-c948-40f2-f6fb-887ec9d8138c"
      },
      "execution_count": null,
      "outputs": [
        {
          "output_type": "display_data",
          "data": {
            "text/plain": [
              "<Figure size 600x400 with 2 Axes>"
            ],
            "image/png": "[encoded data removed]"
          },
          "metadata": {}
        },
        {
          "output_type": "display_data",
          "data": {
            "text/plain": [
              "<Figure size 640x480 with 0 Axes>"
            ]
          },
          "metadata": {}
        }
      ]
    },
    {
      "cell_type": "markdown",
      "source": [
        "#Q2_4"
      ],
      "metadata": {
        "id": "tJsJZJY-yMfM"
      }
    },
    {
      "cell_type": "code",
      "source": [
        "from sklearn.linear_model import LogisticRegression"
      ],
      "metadata": {
        "id": "gNaObrBvg3_l"
      },
      "execution_count": null,
      "outputs": []
    },
    {
      "cell_type": "code",
      "source": [
        "x1_train,x1_test,y1_train,y1_test = train_test_split(X,Y,test_size = 0.2)"
      ],
      "metadata": {
        "id": "rhtj52QBuKKY"
      },
      "execution_count": null,
      "outputs": []
    },
    {
      "cell_type": "code",
      "source": [
        "model_1 = LogisticRegression(max_iter= 20)\n",
        "model_1.fit(x1_train,y1_train)\n",
        "model_1.predict(x1_test), y1_test"
      ],
      "metadata": {
        "colab": {
          "base_uri": "https://localhost:8080/"
        },
        "id": "BsNDHyIuikqL",
        "outputId": "690b51f0-5480-4bb2-a681-b7242c316b85"
      },
      "execution_count": null,
      "outputs": [
        {
          "output_type": "stream",
          "name": "stderr",
          "text": [
            "/usr/local/lib/python3.10/dist-packages/sklearn/linear_model/_logistic.py:458: ConvergenceWarning: lbfgs failed to converge (status=1):\n",
            "STOP: TOTAL NO. of ITERATIONS REACHED LIMIT.\n",
            "\n",
            "Increase the number of iterations (max_iter) or scale the data as shown in:\n",
            "    https://scikit-learn.org/stable/modules/preprocessing.html\n",
            "Please also refer to the documentation for alternative solver options:\n",
            "    https://scikit-learn.org/stable/modules/linear_model.html#logistic-regression\n",
            "  n_iter_i = _check_optimize_result(\n"
          ]
        },
        {
          "output_type": "execute_result",
          "data": {
            "text/plain": [
              "(array([0., 0., 0., 0., 0., 0., 0., 0., 0., 0., 0., 0., 0., 0., 0., 0., 0.,\n",
              "        1., 0., 0., 0., 0., 0., 0., 0., 0., 0., 0., 0., 0., 0., 0., 0., 0.,\n",
              "        0., 0., 0., 0., 0., 0.]),\n",
              " array([0., 0., 1., 1., 0., 0., 1., 1., 1., 1., 1., 0., 0., 1., 0., 0., 1.,\n",
              "        1., 0., 1., 1., 0., 1., 1., 1., 1., 1., 1., 1., 0., 1., 1., 1., 0.,\n",
              "        1., 0., 0., 0., 1., 1.]))"
            ]
          },
          "metadata": {},
          "execution_count": 85
        }
      ]
    },
    {
      "cell_type": "code",
      "source": [
        "import numpy as np\n",
        "import matplotlib.pyplot as plt\n",
        "from sklearn.linear_model import LogisticRegression\n",
        "from sklearn.metrics import accuracy_score\n",
        "\n",
        "\n",
        "print(y1_train.shape)\n",
        "print(x1_train.shape)\n",
        "\n",
        "# Train the model and keep track of accuracy in each iteration\n",
        "accuracy_scores = []\n",
        "num_iterations = 20\n",
        "for i in range(num_iterations):\n",
        "    # Fit the model\n",
        "    model_2 = LogisticRegression(max_iter = i)\n",
        "    model_2.fit(x1_train,y1_train)\n",
        "\n",
        "    # Calculate accuracy on the training set\n",
        "    y_pred = model_2.predict(x1_train)\n",
        "    accuracy = accuracy_score(y1_train, y_pred)\n",
        "    accuracy_scores.append(accuracy)\n",
        "\n",
        "# Create a plot of accuracy scores in different iterations\n",
        "plt.figure(figsize=(8, 5))\n",
        "plt.plot(range(1, num_iterations+1), accuracy_scores, marker='o', color='b', linestyle='-')\n",
        "plt.xlabel('Iterations')\n",
        "plt.ylabel('Accuracy Score')\n",
        "plt.title('Accuracy Score in Different Iterations')\n",
        "plt.grid(True)\n",
        "plt.savefig('accuracy_score')\n",
        "plt.show()"
      ],
      "metadata": {
        "colab": {
          "base_uri": "https://localhost:8080/",
          "height": 1000
        },
        "id": "kikZB-2FmHth",
        "outputId": "e5231a60-0d19-4123-8adb-2e0da376c8b4"
      },
      "execution_count": null,
      "outputs": [
        {
          "output_type": "stream",
          "name": "stdout",
          "text": [
            "(160,)\n",
            "(160, 8)\n"
          ]
        },
        {
          "output_type": "stream",
          "name": "stderr",
          "text": [
            "/usr/local/lib/python3.10/dist-packages/sklearn/linear_model/_logistic.py:458: ConvergenceWarning: lbfgs failed to converge (status=1):\n",
            "STOP: TOTAL NO. of ITERATIONS REACHED LIMIT.\n",
            "\n",
            "Increase the number of iterations (max_iter) or scale the data as shown in:\n",
            "    https://scikit-learn.org/stable/modules/preprocessing.html\n",
            "Please also refer to the documentation for alternative solver options:\n",
            "    https://scikit-learn.org/stable/modules/linear_model.html#logistic-regression\n",
            "  n_iter_i = _check_optimize_result(\n",
            "/usr/local/lib/python3.10/dist-packages/sklearn/linear_model/_logistic.py:458: ConvergenceWarning: lbfgs failed to converge (status=1):\n",
            "STOP: TOTAL NO. of ITERATIONS REACHED LIMIT.\n",
            "\n",
            "Increase the number of iterations (max_iter) or scale the data as shown in:\n",
            "    https://scikit-learn.org/stable/modules/preprocessing.html\n",
            "Please also refer to the documentation for alternative solver options:\n",
            "    https://scikit-learn.org/stable/modules/linear_model.html#logistic-regression\n",
            "  n_iter_i = _check_optimize_result(\n",
            "/usr/local/lib/python3.10/dist-packages/sklearn/linear_model/_logistic.py:458: ConvergenceWarning: lbfgs failed to converge (status=1):\n",
            "STOP: TOTAL NO. of ITERATIONS REACHED LIMIT.\n",
            "\n",
            "Increase the number of iterations (max_iter) or scale the data as shown in:\n",
            "    https://scikit-learn.org/stable/modules/preprocessing.html\n",
            "Please also refer to the documentation for alternative solver options:\n",
            "    https://scikit-learn.org/stable/modules/linear_model.html#logistic-regression\n",
            "  n_iter_i = _check_optimize_result(\n",
            "/usr/local/lib/python3.10/dist-packages/sklearn/linear_model/_logistic.py:458: ConvergenceWarning: lbfgs failed to converge (status=1):\n",
            "STOP: TOTAL NO. of ITERATIONS REACHED LIMIT.\n",
            "\n",
            "Increase the number of iterations (max_iter) or scale the data as shown in:\n",
            "    https://scikit-learn.org/stable/modules/preprocessing.html\n",
            "Please also refer to the documentation for alternative solver options:\n",
            "    https://scikit-learn.org/stable/modules/linear_model.html#logistic-regression\n",
            "  n_iter_i = _check_optimize_result(\n",
            "/usr/local/lib/python3.10/dist-packages/sklearn/linear_model/_logistic.py:458: ConvergenceWarning: lbfgs failed to converge (status=1):\n",
            "STOP: TOTAL NO. of ITERATIONS REACHED LIMIT.\n",
            "\n",
            "Increase the number of iterations (max_iter) or scale the data as shown in:\n",
            "    https://scikit-learn.org/stable/modules/preprocessing.html\n",
            "Please also refer to the documentation for alternative solver options:\n",
            "    https://scikit-learn.org/stable/modules/linear_model.html#logistic-regression\n",
            "  n_iter_i = _check_optimize_result(\n",
            "/usr/local/lib/python3.10/dist-packages/sklearn/linear_model/_logistic.py:458: ConvergenceWarning: lbfgs failed to converge (status=1):\n",
            "STOP: TOTAL NO. of ITERATIONS REACHED LIMIT.\n",
            "\n",
            "Increase the number of iterations (max_iter) or scale the data as shown in:\n",
            "    https://scikit-learn.org/stable/modules/preprocessing.html\n",
            "Please also refer to the documentation for alternative solver options:\n",
            "    https://scikit-learn.org/stable/modules/linear_model.html#logistic-regression\n",
            "  n_iter_i = _check_optimize_result(\n",
            "/usr/local/lib/python3.10/dist-packages/sklearn/linear_model/_logistic.py:458: ConvergenceWarning: lbfgs failed to converge (status=1):\n",
            "STOP: TOTAL NO. of ITERATIONS REACHED LIMIT.\n",
            "\n",
            "Increase the number of iterations (max_iter) or scale the data as shown in:\n",
            "    https://scikit-learn.org/stable/modules/preprocessing.html\n",
            "Please also refer to the documentation for alternative solver options:\n",
            "    https://scikit-learn.org/stable/modules/linear_model.html#logistic-regression\n",
            "  n_iter_i = _check_optimize_result(\n",
            "/usr/local/lib/python3.10/dist-packages/sklearn/linear_model/_logistic.py:458: ConvergenceWarning: lbfgs failed to converge (status=1):\n",
            "STOP: TOTAL NO. of ITERATIONS REACHED LIMIT.\n",
            "\n",
            "Increase the number of iterations (max_iter) or scale the data as shown in:\n",
            "    https://scikit-learn.org/stable/modules/preprocessing.html\n",
            "Please also refer to the documentation for alternative solver options:\n",
            "    https://scikit-learn.org/stable/modules/linear_model.html#logistic-regression\n",
            "  n_iter_i = _check_optimize_result(\n",
            "/usr/local/lib/python3.10/dist-packages/sklearn/linear_model/_logistic.py:458: ConvergenceWarning: lbfgs failed to converge (status=1):\n",
            "STOP: TOTAL NO. of ITERATIONS REACHED LIMIT.\n",
            "\n",
            "Increase the number of iterations (max_iter) or scale the data as shown in:\n",
            "    https://scikit-learn.org/stable/modules/preprocessing.html\n",
            "Please also refer to the documentation for alternative solver options:\n",
            "    https://scikit-learn.org/stable/modules/linear_model.html#logistic-regression\n",
            "  n_iter_i = _check_optimize_result(\n",
            "/usr/local/lib/python3.10/dist-packages/sklearn/linear_model/_logistic.py:458: ConvergenceWarning: lbfgs failed to converge (status=1):\n",
            "STOP: TOTAL NO. of ITERATIONS REACHED LIMIT.\n",
            "\n",
            "Increase the number of iterations (max_iter) or scale the data as shown in:\n",
            "    https://scikit-learn.org/stable/modules/preprocessing.html\n",
            "Please also refer to the documentation for alternative solver options:\n",
            "    https://scikit-learn.org/stable/modules/linear_model.html#logistic-regression\n",
            "  n_iter_i = _check_optimize_result(\n",
            "/usr/local/lib/python3.10/dist-packages/sklearn/linear_model/_logistic.py:458: ConvergenceWarning: lbfgs failed to converge (status=1):\n",
            "STOP: TOTAL NO. of ITERATIONS REACHED LIMIT.\n",
            "\n",
            "Increase the number of iterations (max_iter) or scale the data as shown in:\n",
            "    https://scikit-learn.org/stable/modules/preprocessing.html\n",
            "Please also refer to the documentation for alternative solver options:\n",
            "    https://scikit-learn.org/stable/modules/linear_model.html#logistic-regression\n",
            "  n_iter_i = _check_optimize_result(\n",
            "/usr/local/lib/python3.10/dist-packages/sklearn/linear_model/_logistic.py:458: ConvergenceWarning: lbfgs failed to converge (status=1):\n",
            "STOP: TOTAL NO. of ITERATIONS REACHED LIMIT.\n",
            "\n",
            "Increase the number of iterations (max_iter) or scale the data as shown in:\n",
            "    https://scikit-learn.org/stable/modules/preprocessing.html\n",
            "Please also refer to the documentation for alternative solver options:\n",
            "    https://scikit-learn.org/stable/modules/linear_model.html#logistic-regression\n",
            "  n_iter_i = _check_optimize_result(\n",
            "/usr/local/lib/python3.10/dist-packages/sklearn/linear_model/_logistic.py:458: ConvergenceWarning: lbfgs failed to converge (status=1):\n",
            "STOP: TOTAL NO. of ITERATIONS REACHED LIMIT.\n",
            "\n",
            "Increase the number of iterations (max_iter) or scale the data as shown in:\n",
            "    https://scikit-learn.org/stable/modules/preprocessing.html\n",
            "Please also refer to the documentation for alternative solver options:\n",
            "    https://scikit-learn.org/stable/modules/linear_model.html#logistic-regression\n",
            "  n_iter_i = _check_optimize_result(\n",
            "/usr/local/lib/python3.10/dist-packages/sklearn/linear_model/_logistic.py:458: ConvergenceWarning: lbfgs failed to converge (status=1):\n",
            "STOP: TOTAL NO. of ITERATIONS REACHED LIMIT.\n",
            "\n",
            "Increase the number of iterations (max_iter) or scale the data as shown in:\n",
            "    https://scikit-learn.org/stable/modules/preprocessing.html\n",
            "Please also refer to the documentation for alternative solver options:\n",
            "    https://scikit-learn.org/stable/modules/linear_model.html#logistic-regression\n",
            "  n_iter_i = _check_optimize_result(\n",
            "/usr/local/lib/python3.10/dist-packages/sklearn/linear_model/_logistic.py:458: ConvergenceWarning: lbfgs failed to converge (status=1):\n",
            "STOP: TOTAL NO. of ITERATIONS REACHED LIMIT.\n",
            "\n",
            "Increase the number of iterations (max_iter) or scale the data as shown in:\n",
            "    https://scikit-learn.org/stable/modules/preprocessing.html\n",
            "Please also refer to the documentation for alternative solver options:\n",
            "    https://scikit-learn.org/stable/modules/linear_model.html#logistic-regression\n",
            "  n_iter_i = _check_optimize_result(\n",
            "/usr/local/lib/python3.10/dist-packages/sklearn/linear_model/_logistic.py:458: ConvergenceWarning: lbfgs failed to converge (status=1):\n",
            "STOP: TOTAL NO. of ITERATIONS REACHED LIMIT.\n",
            "\n",
            "Increase the number of iterations (max_iter) or scale the data as shown in:\n",
            "    https://scikit-learn.org/stable/modules/preprocessing.html\n",
            "Please also refer to the documentation for alternative solver options:\n",
            "    https://scikit-learn.org/stable/modules/linear_model.html#logistic-regression\n",
            "  n_iter_i = _check_optimize_result(\n",
            "/usr/local/lib/python3.10/dist-packages/sklearn/linear_model/_logistic.py:458: ConvergenceWarning: lbfgs failed to converge (status=1):\n",
            "STOP: TOTAL NO. of ITERATIONS REACHED LIMIT.\n",
            "\n",
            "Increase the number of iterations (max_iter) or scale the data as shown in:\n",
            "    https://scikit-learn.org/stable/modules/preprocessing.html\n",
            "Please also refer to the documentation for alternative solver options:\n",
            "    https://scikit-learn.org/stable/modules/linear_model.html#logistic-regression\n",
            "  n_iter_i = _check_optimize_result(\n",
            "/usr/local/lib/python3.10/dist-packages/sklearn/linear_model/_logistic.py:458: ConvergenceWarning: lbfgs failed to converge (status=1):\n",
            "STOP: TOTAL NO. of ITERATIONS REACHED LIMIT.\n",
            "\n",
            "Increase the number of iterations (max_iter) or scale the data as shown in:\n",
            "    https://scikit-learn.org/stable/modules/preprocessing.html\n",
            "Please also refer to the documentation for alternative solver options:\n",
            "    https://scikit-learn.org/stable/modules/linear_model.html#logistic-regression\n",
            "  n_iter_i = _check_optimize_result(\n",
            "/usr/local/lib/python3.10/dist-packages/sklearn/linear_model/_logistic.py:458: ConvergenceWarning: lbfgs failed to converge (status=1):\n",
            "STOP: TOTAL NO. of ITERATIONS REACHED LIMIT.\n",
            "\n",
            "Increase the number of iterations (max_iter) or scale the data as shown in:\n",
            "    https://scikit-learn.org/stable/modules/preprocessing.html\n",
            "Please also refer to the documentation for alternative solver options:\n",
            "    https://scikit-learn.org/stable/modules/linear_model.html#logistic-regression\n",
            "  n_iter_i = _check_optimize_result(\n",
            "/usr/local/lib/python3.10/dist-packages/sklearn/linear_model/_logistic.py:458: ConvergenceWarning: lbfgs failed to converge (status=1):\n",
            "STOP: TOTAL NO. of ITERATIONS REACHED LIMIT.\n",
            "\n",
            "Increase the number of iterations (max_iter) or scale the data as shown in:\n",
            "    https://scikit-learn.org/stable/modules/preprocessing.html\n",
            "Please also refer to the documentation for alternative solver options:\n",
            "    https://scikit-learn.org/stable/modules/linear_model.html#logistic-regression\n",
            "  n_iter_i = _check_optimize_result(\n"
          ]
        },
        {
          "output_type": "display_data",
          "data": {
            "text/plain": [
              "<Figure size 800x500 with 1 Axes>"
            ],
            "image/png": "[encoded data removed]"
          },
          "metadata": {}
        }
      ]
    },
    {
      "cell_type": "code",
      "source": [],
      "metadata": {
        "id": "6c8N3nf8tjtK"
      },
      "execution_count": null,
      "outputs": []
    }
  ],
  "metadata": {
    "colab": {
      "provenance": []
    },
    "kernelspec": {
      "display_name": "Python 3",
      "name": "python3"
    },
    "language_info": {
      "name": "python"
    }
  },
  "nbformat": 4,
  "nbformat_minor": 0
}